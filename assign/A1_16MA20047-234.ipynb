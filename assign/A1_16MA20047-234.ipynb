{
 "cells": [
  {
   "cell_type": "code",
   "execution_count": 1,
   "metadata": {},
   "outputs": [],
   "source": [
    "from scipy import optimize"
   ]
  },
  {
   "cell_type": "markdown",
   "metadata": {},
   "source": [
    "Problem 2"
   ]
  },
  {
   "cell_type": "code",
   "execution_count": 2,
   "metadata": {},
   "outputs": [],
   "source": [
    "def func(x):\n",
    "    return (x[1]-x[0])**4 + (x[0]-2)**4"
   ]
  },
  {
   "cell_type": "code",
   "execution_count": 3,
   "metadata": {},
   "outputs": [
    {
     "data": {
      "text/plain": [
       "     fun: 2.2878404756637897e-08\n",
       "     jac: array([6.82191764e-06, 4.75876731e-07])\n",
       " message: 'Optimization terminated successfully.'\n",
       "    nfev: 72\n",
       "     nit: 10\n",
       "    njev: 24\n",
       "  status: 0\n",
       " success: True\n",
       "       x: array([2.01221922, 2.01713747])"
      ]
     },
     "execution_count": 3,
     "metadata": {},
     "output_type": "execute_result"
    }
   ],
   "source": [
    "optimize.minimize(func, [2, -1],method=\"CG\")  "
   ]
  },
  {
   "cell_type": "markdown",
   "metadata": {},
   "source": [
    "Problem 3"
   ]
  },
  {
   "cell_type": "code",
   "execution_count": 4,
   "metadata": {},
   "outputs": [],
   "source": [
    "def func(x):\n",
    "    return x[0]**2 - 2*x[0]*x[1] + x[1]**2 + x[0]**4 + x[1]**4"
   ]
  },
  {
   "cell_type": "code",
   "execution_count": 5,
   "metadata": {},
   "outputs": [
    {
     "data": {
      "text/plain": [
       "     fun: 8.1665636145075e-11\n",
       "     jac: array([6.28146506e-08, 9.62137553e-08])\n",
       " message: 'Optimization terminated successfully.'\n",
       "    nfev: 63\n",
       "     nit: 7\n",
       "    njev: 20\n",
       "  status: 0\n",
       " success: True\n",
       "       x: array([0.00252785, 0.00252786])"
      ]
     },
     "execution_count": 5,
     "metadata": {},
     "output_type": "execute_result"
    }
   ],
   "source": [
    "optimize.minimize(func, [2, -1],method=\"CG\")  "
   ]
  },
  {
   "cell_type": "markdown",
   "metadata": {},
   "source": [
    "Problem 4A"
   ]
  },
  {
   "cell_type": "code",
   "execution_count": 6,
   "metadata": {},
   "outputs": [],
   "source": [
    "def func(X):\n",
    "    x = X[0]\n",
    "    y = X[1]\n",
    "    return x**2 + y**2 + x + y + x*y\n",
    "def funcM(X):\n",
    "    return -1*func(X)"
   ]
  },
  {
   "cell_type": "code",
   "execution_count": 7,
   "metadata": {},
   "outputs": [
    {
     "data": {
      "text/plain": [
       "     fun: -0.33333333333333337\n",
       "     jac: array([-1.49011612e-08, -2.23517418e-08])\n",
       " message: 'Optimization terminated successfully.'\n",
       "    nfev: 18\n",
       "     nit: 3\n",
       "    njev: 6\n",
       "  status: 0\n",
       " success: True\n",
       "       x: array([-0.33333333, -0.33333334])"
      ]
     },
     "execution_count": 7,
     "metadata": {},
     "output_type": "execute_result"
    }
   ],
   "source": [
    "optimize.minimize(func, [2, -1],method=\"CG\")"
   ]
  },
  {
   "cell_type": "code",
   "execution_count": 8,
   "metadata": {},
   "outputs": [
    {
     "name": "stderr",
     "output_type": "stream",
     "text": [
      "<ipython-input-6-792f080575bf>:4: RuntimeWarning: overflow encountered in double_scalars\n",
      "  return x**2 + y**2 + x + y + x*y\n",
      "/home/eurus/anaconda3/lib/python3.8/site-packages/scipy/optimize/_numdiff.py:497: RuntimeWarning: invalid value encountered in subtract\n",
      "  df = fun(x) - f0\n",
      "<ipython-input-6-792f080575bf>:4: RuntimeWarning: overflow encountered in double_scalars\n",
      "  return x**2 + y**2 + x + y + x*y\n",
      "/home/eurus/anaconda3/lib/python3.8/site-packages/scipy/optimize/_numdiff.py:497: RuntimeWarning: invalid value encountered in subtract\n",
      "  df = fun(x) - f0\n"
     ]
    },
    {
     "data": {
      "text/plain": [
       "     fun: -1.395945816932975e+211\n",
       "     jac: array([-7.33731617e+105, -4.89390077e+105])\n",
       " message: 'Desired error not necessarily achieved due to precision loss.'\n",
       "    nfev: 11358\n",
       "     nit: 35\n",
       "    njev: 3786\n",
       "  status: 2\n",
       " success: False\n",
       "       x: array([3.26024388e+105, 8.16828316e+104])"
      ]
     },
     "execution_count": 8,
     "metadata": {},
     "output_type": "execute_result"
    }
   ],
   "source": [
    "optimize.minimize(funcM, [2, -1],method=\"CG\")  "
   ]
  },
  {
   "cell_type": "markdown",
   "metadata": {},
   "source": [
    "Problem 4B"
   ]
  },
  {
   "cell_type": "code",
   "execution_count": 9,
   "metadata": {},
   "outputs": [],
   "source": [
    "def func(X):\n",
    "    x = X[0]\n",
    "    y = X[1]\n",
    "    return x**2 + x*y + y**2 + x + y\n",
    "def funcM(X):\n",
    "    return -1*func(X)"
   ]
  },
  {
   "cell_type": "code",
   "execution_count": 10,
   "metadata": {},
   "outputs": [
    {
     "data": {
      "text/plain": [
       "     fun: -0.33333333333333326\n",
       "     jac: array([-0.00000000e+00, -1.49011612e-08])\n",
       " message: 'Optimization terminated successfully.'\n",
       "    nfev: 18\n",
       "     nit: 3\n",
       "    njev: 6\n",
       "  status: 0\n",
       " success: True\n",
       "       x: array([-0.33333332, -0.33333334])"
      ]
     },
     "execution_count": 10,
     "metadata": {},
     "output_type": "execute_result"
    }
   ],
   "source": [
    "optimize.minimize(func, [2, -1],method=\"CG\")"
   ]
  },
  {
   "cell_type": "code",
   "execution_count": 11,
   "metadata": {},
   "outputs": [
    {
     "name": "stderr",
     "output_type": "stream",
     "text": [
      "<ipython-input-9-91988c32d104>:4: RuntimeWarning: overflow encountered in double_scalars\n",
      "  return x**2 + x*y + y**2 + x + y\n",
      "/home/eurus/anaconda3/lib/python3.8/site-packages/scipy/optimize/_numdiff.py:497: RuntimeWarning: invalid value encountered in subtract\n",
      "  df = fun(x) - f0\n",
      "<ipython-input-9-91988c32d104>:4: RuntimeWarning: overflow encountered in double_scalars\n",
      "  return x**2 + x*y + y**2 + x + y\n",
      "/home/eurus/anaconda3/lib/python3.8/site-packages/scipy/optimize/_numdiff.py:497: RuntimeWarning: invalid value encountered in subtract\n",
      "  df = fun(x) - f0\n"
     ]
    },
    {
     "data": {
      "text/plain": [
       "     fun: -1.3959127992716688e+211\n",
       "     jac: array([-7.33722939e+105, -4.89384285e+105])\n",
       " message: 'Desired error not necessarily achieved due to precision loss.'\n",
       "    nfev: 11358\n",
       "     nit: 35\n",
       "    njev: 3786\n",
       "  status: 2\n",
       " success: False\n",
       "       x: array([3.26020534e+105, 8.16818635e+104])"
      ]
     },
     "execution_count": 11,
     "metadata": {},
     "output_type": "execute_result"
    }
   ],
   "source": [
    "optimize.minimize(funcM, [2, -1],method=\"CG\")  "
   ]
  },
  {
   "cell_type": "markdown",
   "metadata": {},
   "source": [
    "Problem 4C"
   ]
  },
  {
   "cell_type": "code",
   "execution_count": 12,
   "metadata": {},
   "outputs": [],
   "source": [
    "def func(X):\n",
    "    x = X[0]\n",
    "    y = X[1]\n",
    "    return y**2 - x**3\n",
    "def funcM(X):\n",
    "    return -1*func(X)"
   ]
  },
  {
   "cell_type": "code",
   "execution_count": 13,
   "metadata": {},
   "outputs": [
    {
     "data": {
      "text/plain": [
       "     fun: -2.202858318290458e+162\n",
       "     jac: array([-5.07900888e+108,  0.00000000e+000])\n",
       " message: 'Desired error not necessarily achieved due to precision loss.'\n",
       "    nfev: 4230\n",
       "     nit: 19\n",
       "    njev: 1410\n",
       "  status: 2\n",
       " success: False\n",
       "       x: array([1.30115446e+54, 2.16858221e+53])"
      ]
     },
     "execution_count": 13,
     "metadata": {},
     "output_type": "execute_result"
    }
   ],
   "source": [
    "optimize.minimize(func, [2, -1],method=\"CG\")"
   ]
  },
  {
   "cell_type": "code",
   "execution_count": 14,
   "metadata": {},
   "outputs": [
    {
     "data": {
      "text/plain": [
       "     fun: -1.8930794365931653e+155\n",
       "     jac: array([ 9.89085466e+103, -0.00000000e+000])\n",
       " message: 'Desired error not necessarily achieved due to precision loss.'\n",
       "    nfev: 4200\n",
       "     nit: 19\n",
       "    njev: 1400\n",
       "  status: 2\n",
       " success: False\n",
       "       x: array([-5.74190866e+51, -4.43032094e+51])"
      ]
     },
     "execution_count": 14,
     "metadata": {},
     "output_type": "execute_result"
    }
   ],
   "source": [
    "optimize.minimize(funcM, [2, -1],method=\"CG\")  "
   ]
  },
  {
   "cell_type": "markdown",
   "metadata": {},
   "source": [
    "Problem 4D"
   ]
  },
  {
   "cell_type": "code",
   "execution_count": 15,
   "metadata": {},
   "outputs": [],
   "source": [
    "def func(X):\n",
    "    x = X[0]\n",
    "    y = X[1]\n",
    "    return x**4 + y**4 - 6*(x**2 + y**2) + 8*x*y\n",
    "def funcM(X):\n",
    "    return -1*func(X)"
   ]
  },
  {
   "cell_type": "code",
   "execution_count": 16,
   "metadata": {},
   "outputs": [
    {
     "data": {
      "text/plain": [
       "     fun: -50.00000000000001\n",
       "     jac: array([ 4.76837158e-07, -4.76837158e-07])\n",
       " message: 'Optimization terminated successfully.'\n",
       "    nfev: 42\n",
       "     nit: 7\n",
       "    njev: 14\n",
       "  status: 0\n",
       " success: True\n",
       "       x: array([ 2.23606797, -2.23606798])"
      ]
     },
     "execution_count": 16,
     "metadata": {},
     "output_type": "execute_result"
    }
   ],
   "source": [
    "optimize.minimize(func, [2, -1],method=\"CG\")"
   ]
  },
  {
   "cell_type": "code",
   "execution_count": 17,
   "metadata": {},
   "outputs": [
    {
     "name": "stderr",
     "output_type": "stream",
     "text": [
      "<ipython-input-15-6a125b544a46>:4: RuntimeWarning: overflow encountered in double_scalars\n",
      "  return x**4 + y**4 - 6*(x**2 + y**2) + 8*x*y\n",
      "/home/eurus/anaconda3/lib/python3.8/site-packages/scipy/optimize/_numdiff.py:497: RuntimeWarning: invalid value encountered in subtract\n",
      "  df = fun(x) - f0\n"
     ]
    },
    {
     "data": {
      "text/plain": [
       "     fun: -2.1163592262271033e+144\n",
       "     jac: array([-5.19269712e+108, -3.06181365e+108])\n",
       " message: 'Desired error not necessarily achieved due to precision loss.'\n",
       "    nfev: 3138\n",
       "     nit: 14\n",
       "    njev: 1046\n",
       "  status: 2\n",
       " success: False\n",
       "       x: array([1.09088172e+36, 9.14758074e+35])"
      ]
     },
     "execution_count": 17,
     "metadata": {},
     "output_type": "execute_result"
    }
   ],
   "source": [
    "optimize.minimize(funcM, [2, -1],method=\"CG\")"
   ]
  }
 ],
 "metadata": {
  "kernelspec": {
   "display_name": "Python 3",
   "language": "python",
   "name": "python3"
  },
  "language_info": {
   "codemirror_mode": {
    "name": "ipython",
    "version": 3
   },
   "file_extension": ".py",
   "mimetype": "text/x-python",
   "name": "python",
   "nbconvert_exporter": "python",
   "pygments_lexer": "ipython3",
   "version": "3.8.3"
  }
 },
 "nbformat": 4,
 "nbformat_minor": 4
}
