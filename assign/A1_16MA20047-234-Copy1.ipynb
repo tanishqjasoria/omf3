{
 "cells": [
  {
   "cell_type": "markdown",
   "metadata": {},
   "source": [
    "Problem 5"
   ]
  },
  {
   "cell_type": "code",
   "execution_count": 3,
   "metadata": {},
   "outputs": [],
   "source": [
    "from scipy import optimize"
   ]
  },
  {
   "cell_type": "code",
   "execution_count": 7,
   "metadata": {},
   "outputs": [],
   "source": [
    "def func(X):\n",
    "    x = X[0]\n",
    "    y = X[1]\n",
    "    z = X[2]\n",
    "    return 2*x*y*z-4*z*x-2*y*z+x**2+y**2+z**2-2*x-4*y+4*z\n",
    "def funcM(X):\n",
    "    return -1 * func(X)"
   ]
  },
  {
   "cell_type": "code",
   "execution_count": 11,
   "metadata": {},
   "outputs": [
    {
     "data": {
      "text/plain": [
       "([0, 1, -1], [2, 3, -1], [1, 2, 0], [0, 3, 1], [2, 1, 1])"
      ]
     },
     "execution_count": 11,
     "metadata": {},
     "output_type": "execute_result"
    }
   ],
   "source": [
    "stationary_solve(func)"
   ]
  },
  {
   "cell_type": "code",
   "execution_count": 9,
   "metadata": {},
   "outputs": [
    {
     "data": {
      "text/plain": [
       "     fun: -3.376421171391083e+154\n",
       "     jac: array([-6.95516298e+102,  4.71333828e+103, -6.95516279e+102])\n",
       " message: 'Desired error not necessarily achieved due to precision loss.'\n",
       "    nfev: 5608\n",
       "     nit: 19\n",
       "    njev: 1402\n",
       "  status: 2\n",
       " success: False\n",
       "       x: array([ 4.85455363e+51, -7.16354512e+50,  4.85455376e+51])"
      ]
     },
     "execution_count": 9,
     "metadata": {},
     "output_type": "execute_result"
    }
   ],
   "source": [
    "optimize.minimize(func, [2, -1, 1],method=\"CG\")  "
   ]
  },
  {
   "cell_type": "code",
   "execution_count": 8,
   "metadata": {},
   "outputs": [
    {
     "data": {
      "text/plain": [
       "     fun: -759956184750.7095\n",
       "     jac: array([-1.49927526e+09,  1.86777600e+06, -1.49001011e+09])\n",
       " message: 'Desired error not necessarily achieved due to precision loss.'\n",
       "    nfev: 550\n",
       "     nit: 15\n",
       "    njev: 135\n",
       "  status: 2\n",
       " success: False\n",
       "       x: array([-5.81846852e+02, -1.27819944e+06, -5.86475487e+02])"
      ]
     },
     "execution_count": 8,
     "metadata": {},
     "output_type": "execute_result"
    }
   ],
   "source": [
    "optimize.minimize(funcM, [2, -1, 1],method=\"CG\")  "
   ]
  },
  {
   "cell_type": "code",
   "execution_count": 14,
   "metadata": {},
   "outputs": [
    {
     "data": {
      "text/plain": [
       "     fun: -1.8930794365931653e+155\n",
       "     jac: array([ 9.89085466e+103, -0.00000000e+000])\n",
       " message: 'Desired error not necessarily achieved due to precision loss.'\n",
       "    nfev: 4200\n",
       "     nit: 19\n",
       "    njev: 1400\n",
       "  status: 2\n",
       " success: False\n",
       "       x: array([-5.74190866e+51, -4.43032094e+51])"
      ]
     },
     "execution_count": 14,
     "metadata": {},
     "output_type": "execute_result"
    }
   ],
   "source": [
    "optimize.minimize(funcM, [2, -1],method=\"CG\")  "
   ]
  },
  {
   "cell_type": "markdown",
   "metadata": {},
   "source": [
    "Problem 4D"
   ]
  },
  {
   "cell_type": "code",
   "execution_count": 15,
   "metadata": {},
   "outputs": [],
   "source": [
    "def func(X):\n",
    "    x = X[0]\n",
    "    y = X[1]\n",
    "    return x**4 + y**4 - 6*(x**2 + y**2) + 8*x*y\n",
    "def funcM(X):\n",
    "    return -1*func(X)"
   ]
  },
  {
   "cell_type": "code",
   "execution_count": 16,
   "metadata": {},
   "outputs": [
    {
     "data": {
      "text/plain": [
       "     fun: -50.00000000000001\n",
       "     jac: array([ 4.76837158e-07, -4.76837158e-07])\n",
       " message: 'Optimization terminated successfully.'\n",
       "    nfev: 42\n",
       "     nit: 7\n",
       "    njev: 14\n",
       "  status: 0\n",
       " success: True\n",
       "       x: array([ 2.23606797, -2.23606798])"
      ]
     },
     "execution_count": 16,
     "metadata": {},
     "output_type": "execute_result"
    }
   ],
   "source": [
    "optimize.minimize(func, [2, -1],method=\"CG\")"
   ]
  },
  {
   "cell_type": "code",
   "execution_count": 17,
   "metadata": {},
   "outputs": [
    {
     "name": "stderr",
     "output_type": "stream",
     "text": [
      "<ipython-input-15-6a125b544a46>:4: RuntimeWarning: overflow encountered in double_scalars\n",
      "  return x**4 + y**4 - 6*(x**2 + y**2) + 8*x*y\n",
      "/home/eurus/anaconda3/lib/python3.8/site-packages/scipy/optimize/_numdiff.py:497: RuntimeWarning: invalid value encountered in subtract\n",
      "  df = fun(x) - f0\n"
     ]
    },
    {
     "data": {
      "text/plain": [
       "     fun: -2.1163592262271033e+144\n",
       "     jac: array([-5.19269712e+108, -3.06181365e+108])\n",
       " message: 'Desired error not necessarily achieved due to precision loss.'\n",
       "    nfev: 3138\n",
       "     nit: 14\n",
       "    njev: 1046\n",
       "  status: 2\n",
       " success: False\n",
       "       x: array([1.09088172e+36, 9.14758074e+35])"
      ]
     },
     "execution_count": 17,
     "metadata": {},
     "output_type": "execute_result"
    }
   ],
   "source": [
    "optimize.minimize(funcM, [2, -1],method=\"CG\")"
   ]
  },
  {
   "cell_type": "code",
   "execution_count": null,
   "metadata": {},
   "outputs": [],
   "source": []
  }
 ],
 "metadata": {
  "kernelspec": {
   "display_name": "Python 3",
   "language": "python",
   "name": "python3"
  },
  "language_info": {
   "codemirror_mode": {
    "name": "ipython",
    "version": 3
   },
   "file_extension": ".py",
   "mimetype": "text/x-python",
   "name": "python",
   "nbconvert_exporter": "python",
   "pygments_lexer": "ipython3",
   "version": "3.8.3"
  }
 },
 "nbformat": 4,
 "nbformat_minor": 4
}
