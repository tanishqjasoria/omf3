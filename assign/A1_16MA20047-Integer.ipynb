{
 "cells": [
  {
   "cell_type": "code",
   "execution_count": 1,
   "metadata": {},
   "outputs": [],
   "source": [
    "from pulp import LpMaximize, LpMinimize, LpProblem, LpStatus, lpSum, LpVariable"
   ]
  },
  {
   "cell_type": "code",
   "execution_count": 2,
   "metadata": {},
   "outputs": [],
   "source": [
    "def solve_print(model):\n",
    "    status = model.solve()\n",
    "    print(\"Solution to the problem: \", end = \"\")\n",
    "    print(LpStatus[model.status])\n",
    "    print(\"Objective Value: \", end = \"\")\n",
    "    print(model.objective.value())\n",
    "    print(\"Final value of the variables:\")\n",
    "    for var in model.variables():\n",
    "        print(f\"{var.name}: {var.value()}\")"
   ]
  },
  {
   "cell_type": "markdown",
   "metadata": {},
   "source": [
    "Problem 1 - Part A"
   ]
  },
  {
   "cell_type": "code",
   "execution_count": 3,
   "metadata": {},
   "outputs": [],
   "source": [
    "model = LpProblem(name = \"A1_1a\", sense=LpMaximize)"
   ]
  },
  {
   "cell_type": "code",
   "execution_count": 4,
   "metadata": {},
   "outputs": [
    {
     "ename": "SyntaxError",
     "evalue": "EOL while scanning string literal (<ipython-input-4-2d6b67936b9e>, line 1)",
     "output_type": "error",
     "traceback": [
      "\u001b[0;36m  File \u001b[0;32m\"<ipython-input-4-2d6b67936b9e>\"\u001b[0;36m, line \u001b[0;32m1\u001b[0m\n\u001b[0;31m    x1 = LpVariable(name=\"x1\", lowBound=0, cat=\"Integer)\u001b[0m\n\u001b[0m                                                        ^\u001b[0m\n\u001b[0;31mSyntaxError\u001b[0m\u001b[0;31m:\u001b[0m EOL while scanning string literal\n"
     ]
    }
   ],
   "source": [
    "x1 = LpVariable(name=\"x1\", lowBound=0, cat=\"Integer\")\n",
    "x2 = LpVariable(name=\"x2\", lowBound=0, cat=\"Integer\")\n",
    "x3 = LpVariable(name=\"x3\", lowBound=0, cat=\"Integer\")"
   ]
  },
  {
   "cell_type": "code",
   "execution_count": 41,
   "metadata": {},
   "outputs": [],
   "source": [
    "objective = 3 * x1 + 2 * x2 + x3"
   ]
  },
  {
   "cell_type": "code",
   "execution_count": 42,
   "metadata": {},
   "outputs": [],
   "source": [
    "model += ( 2 * x1 - 3*x2 + x3 <= 3, \"1cons\")\n",
    "model += (-1 * x1 + 1*x2 + x3 <= 5, \"2cons\")"
   ]
  },
  {
   "cell_type": "code",
   "execution_count": 43,
   "metadata": {},
   "outputs": [],
   "source": [
    "model += objective"
   ]
  },
  {
   "cell_type": "code",
   "execution_count": 44,
   "metadata": {},
   "outputs": [
    {
     "name": "stdout",
     "output_type": "stream",
     "text": [
      "Solution to the problem: Unbounded\n",
      "Objective Value: 4.5\n",
      "Final value of the variables:\n",
      "x1: 1.5\n",
      "x2: 0.0\n",
      "x3: 0.0\n"
     ]
    }
   ],
   "source": [
    "solve_print(model)"
   ]
  },
  {
   "cell_type": "markdown",
   "metadata": {},
   "source": [
    "Problem 1 - Part B"
   ]
  },
  {
   "cell_type": "code",
   "execution_count": 45,
   "metadata": {},
   "outputs": [],
   "source": [
    "model = LpProblem(name = \"A1_1b\", sense=LpMaximize)"
   ]
  },
  {
   "cell_type": "code",
   "execution_count": 46,
   "metadata": {},
   "outputs": [],
   "source": [
    "x1 = LpVariable(name=\"x1\", lowBound=0, cat=\"Integer\")\n",
    "x2 = LpVariable(name=\"x2\", lowBound=0, cat=\"Integer\")\n",
    "x3 = LpVariable(name=\"x3\", lowBound=0, cat=\"Integer)"
   ]
  },
  {
   "cell_type": "code",
   "execution_count": 47,
   "metadata": {},
   "outputs": [],
   "source": [
    "objective = 5 * x1 + 2 * x2 + 3 * x3"
   ]
  },
  {
   "cell_type": "code",
   "execution_count": 48,
   "metadata": {},
   "outputs": [],
   "source": [
    "model += (x1 + 5*x2 + 2*x3 == 30, \"1cons\")\n",
    "model += (x1 - 5*x2 - 6*x3 <= 40, \"2cons\")"
   ]
  },
  {
   "cell_type": "code",
   "execution_count": 49,
   "metadata": {},
   "outputs": [],
   "source": [
    "model += objective"
   ]
  },
  {
   "cell_type": "code",
   "execution_count": 50,
   "metadata": {},
   "outputs": [
    {
     "name": "stdout",
     "output_type": "stream",
     "text": [
      "Solution to the problem: Optimal\n",
      "Objective Value: 150.0\n",
      "Final value of the variables:\n",
      "x1: 30.0\n",
      "x2: 0.0\n",
      "x3: 0.0\n"
     ]
    }
   ],
   "source": [
    "solve_print(model)"
   ]
  },
  {
   "cell_type": "markdown",
   "metadata": {},
   "source": [
    "Problem 1 - Part C"
   ]
  },
  {
   "cell_type": "code",
   "execution_count": 55,
   "metadata": {},
   "outputs": [],
   "source": [
    "model = LpProblem(name = \"A1_1b\", sense=LpMinimize)"
   ]
  },
  {
   "cell_type": "code",
   "execution_count": 56,
   "metadata": {},
   "outputs": [],
   "source": [
    "x1 = LpVariable(name=\"x1\", lowBound=0, cat=\"Integer)\n",
    "x2 = LpVariable(name=\"x2\", cat=\"Integer)\n",
    "x3 = LpVariable(name=\"x3\", lowBound=0, cat=\"Integer)"
   ]
  },
  {
   "cell_type": "code",
   "execution_count": 57,
   "metadata": {},
   "outputs": [],
   "source": [
    "objective = 2 * x1 + 3 * x2 + 4 * x3"
   ]
  },
  {
   "cell_type": "code",
   "execution_count": 58,
   "metadata": {},
   "outputs": [],
   "source": [
    "model += (2*x1 + 2*x2 + 3*x3 <= 4, \"1cons\")\n",
    "model += (3*x1 + 4*x2 + 5*x3 >= 5, \"2cons\")\n",
    "model += (1*x1 + 2*x2 + 1*x3 == 7, \"3cons\")"
   ]
  },
  {
   "cell_type": "code",
   "execution_count": 59,
   "metadata": {},
   "outputs": [],
   "source": [
    "model += objective"
   ]
  },
  {
   "cell_type": "code",
   "execution_count": 61,
   "metadata": {},
   "outputs": [
    {
     "name": "stdout",
     "output_type": "stream",
     "text": [
      "Solution to the problem: Infeasible\n",
      "Objective Value: 10.5\n",
      "Final value of the variables:\n",
      "x1: 0.0\n",
      "x2: 3.5\n",
      "x3: 0.0\n"
     ]
    }
   ],
   "source": [
    "solve_print(model)"
   ]
  },
  {
   "cell_type": "code",
   "execution_count": null,
   "metadata": {},
   "outputs": [],
   "source": []
  }
 ],
 "metadata": {
  "kernelspec": {
   "display_name": "Python 3",
   "language": "python",
   "name": "python3"
  },
  "language_info": {
   "codemirror_mode": {
    "name": "ipython",
    "version": 3
   },
   "file_extension": ".py",
   "mimetype": "text/x-python",
   "name": "python",
   "nbconvert_exporter": "python",
   "pygments_lexer": "ipython3",
   "version": "3.8.3"
  }
 },
 "nbformat": 4,
 "nbformat_minor": 4
}
