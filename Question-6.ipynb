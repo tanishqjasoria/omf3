{
 "cells": [
  {
   "cell_type": "markdown",
   "metadata": {},
   "source": [
    "# Question 6"
   ]
  },
  {
   "cell_type": "code",
   "execution_count": 43,
   "metadata": {},
   "outputs": [
    {
     "name": "stdout",
     "output_type": "stream",
     "text": [
      "6)a) The Market Portfolio has:\n",
      "Expected return =  0.5586484891267398\n",
      "Variance =  0.7588793993457755\n",
      "6)b) Slope of CML =  0.7298351001984625\n",
      "6)c) Slope of Security Market Line =  0.7250434335317959\n",
      "Value of beta for each asset is: \n",
      "Beta[ 1 ] =  [0.1498805]\n",
      "Beta[ 2 ] =  [0.03936546]\n",
      "Beta[ 3 ] =  [0.14325534]\n",
      "Equations are handwritten at the end of the pdf\n"
     ]
    }
   ],
   "source": [
    "import numpy as np\n",
    "from numpy.linalg import inv\n",
    "\n",
    "A = np.array([\n",
    "    [10, 15, 10], \n",
    "    [15, 20, 15],\n",
    "    [13, 18, 11],\n",
    "    [15, 15, 14],\n",
    "    [14, 16, 13]\n",
    "])\n",
    "\n",
    "rate = np.zeros((A.shape[0]-1, A.shape[1]))\n",
    "for i in range(rate.shape[0]):\n",
    "    for j in range(rate.shape[1]):\n",
    "        rate[i][j] = A[i+1][j]/A[i][j] - 1\n",
    "n, m = rate.shape\n",
    "\n",
    "mu = np.mean(rate, axis=0)\n",
    "D = rate - mu\n",
    "om = (D.T @ D) *1/n\n",
    "\n",
    "e=np.ones((3,1))\n",
    "mu_f = 0.0575/12\n",
    "mu=mu.reshape(3,1)\n",
    "wd = ((inv(om))@(mu-mu_f*e))/((e.T@inv(om))@(mu-mu_f*e))\n",
    "market_return = wd.T@mu\n",
    "market_risk = wd.T@om@wd\n",
    "\n",
    "mu_m = (market_return.item(0)-mu_f)/(market_risk.item(0))**0.5\n",
    "\n",
    "print(\"6)a) The Market Portfolio has:\")\n",
    "print(\"Expected return = \", market_return.item(0))\n",
    "print(\"Variance = \", market_risk.item(0)**0.5)\n",
    "print(\"6)b) Slope of CML = \", mu_m)\n",
    "print(\"6)c) Slope of Security Market Line = \", mu_m - mu_f)\n",
    "print(\"Value of beta for each asset is: \")\n",
    "beta=0\n",
    "for i, mu_i in enumerate(mu):\n",
    "    print(\"Beta[\",i+1,\"] = \",((mu_i-mu_f)/(mu_m - mu_f)))\n",
    "print(\"Equations are handwritten at the end of the pdf\")\n",
    "# print(mu_m, market_return.item(0), market_risk.item(0)**0.5)"
   ]
  },
  {
   "cell_type": "code",
   "execution_count": null,
   "metadata": {},
   "outputs": [],
   "source": []
  }
 ],
 "metadata": {
  "kernelspec": {
   "display_name": "Python 3",
   "language": "python",
   "name": "python3"
  },
  "language_info": {
   "codemirror_mode": {
    "name": "ipython",
    "version": 3
   },
   "file_extension": ".py",
   "mimetype": "text/x-python",
   "name": "python",
   "nbconvert_exporter": "python",
   "pygments_lexer": "ipython3",
   "version": "3.8.3"
  }
 },
 "nbformat": 4,
 "nbformat_minor": 2
}
