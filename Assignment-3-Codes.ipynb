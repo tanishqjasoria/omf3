{
 "cells": [
  {
   "cell_type": "code",
   "execution_count": 1,
   "metadata": {},
   "outputs": [],
   "source": [
    "import numpy as np\n",
    "from numpy.linalg import inv\n",
    "from numpy.linalg import det\n",
    "from scipy.optimize import minimize\n",
    "from matplotlib import pyplot as plt\n",
    "%matplotlib inline"
   ]
  },
  {
   "cell_type": "code",
   "execution_count": 31,
   "metadata": {},
   "outputs": [
    {
     "name": "stdout",
     "output_type": "stream",
     "text": [
      "3\n",
      "1)a) Covariance matrix of return: \n",
      "[[ 505.40144006 -157.391795   -347.41202632]\n",
      " [-157.391795     88.20495343   93.92524336]\n",
      " [-347.41202632   93.92524336  255.32288321]]\n"
     ]
    }
   ],
   "source": [
    "A = np.array([\n",
    "    [10, 15, 10], \n",
    "    [15, 20, 15],\n",
    "    [13, 18, 11],\n",
    "    [15, 15, 14],\n",
    "    [14, 16, 13]\n",
    "])\n",
    "\n",
    "rate = np.zeros((A.shape[0]-1, A.shape[1]))\n",
    "for i in range(rate.shape[0]):\n",
    "    for j in range(rate.shape[1]):\n",
    "        rate[i][j] = A[i+1][j]/A[i][j] - 1\n",
    "n, m = rate.shape\n",
    "\n",
    "mu = np.mean(rate, axis=0)\n",
    "D = rate - mu\n",
    "om = (D.T @ D) *1/n\n",
    "print(\"1)a) Covariance matrix of return: \")\n",
    "print(inv(om))\n"
   ]
  },
  {
   "cell_type": "code",
   "execution_count": 11,
   "metadata": {},
   "outputs": [
    {
     "name": "stdout",
     "output_type": "stream",
     "text": [
      "1)b) Optimal portfolio weights according to Markowitz Model 1 are:\n",
      "[[0.02199382 0.91043323 0.06757295]]\n"
     ]
    }
   ],
   "source": [
    "def markowitz_model1(om):\n",
    "    e = np.ones((m, 1))\n",
    "    sol = (inv(om) @ e)\n",
    "    sol/=(e.T @ inv(om) @ e)\n",
    "    return(sol.T)\n",
    "ans = markowitz_model1(om)\n",
    "print(\"1)b)I) Optimal portfolio weights according to Markowitz Model 1 are:\")\n",
    "print(ans) "
   ]
  },
  {
   "cell_type": "code",
   "execution_count": 32,
   "metadata": {},
   "outputs": [
    {
     "name": "stdout",
     "output_type": "stream",
     "text": [
      "1)b)II) Optimal portfolio weights according to Markowitz Model 2 are:\n",
      "[ 7.48581885 -2.06285174 -4.42296711]\n",
      "3\n"
     ]
    }
   ],
   "source": [
    "def markowitz_model2(om, mu, R):\n",
    "    e = np.ones((m, 1))\n",
    "    numerator = np.array([[2*R, float(mu.T @ inv(om) @ e)], [2, float(e.T @ inv(om) @ e)]])\n",
    "    denominator = np.array([[float(mu.T @ inv(om) @ mu), float(mu.T @ inv(om) @ e)],\n",
    "                            [float(e.T @ inv(om) @ mu), float(e.T @ inv(om) @ e)]])\n",
    "    lambda1 = det(numerator)/det(denominator)\n",
    "    numerator = np.array([[float(mu.T @ inv(om) @ mu), 2*R], \n",
    "                            [float(e.T @ inv(om) @ mu), 2]])\n",
    "    denominator = np.array([[float(mu.T @ inv(om) @ mu), float(mu.T @ inv(om) @ e)],\n",
    "                            [float(e.T @ inv(om) @ mu), float(e.T @ inv(om) @ e)]])\n",
    "\n",
    "    lambda2 = det(numerator)/det(denominator)\n",
    "    sol = 0.5 * (lambda1 * (inv(om) @ mu) + lambda2 * (inv(om) @ e.reshape(m)))\n",
    "    return sol\n",
    "ans = markowitz_model2(om, mu, R=0.3)\n",
    "print(\"1)b)II) Optimal portfolio weights according to Markowitz Model 2 are:\")"
   ]
  },
  {
   "cell_type": "code",
   "execution_count": 33,
   "metadata": {},
   "outputs": [
    {
     "name": "stdout",
     "output_type": "stream",
     "text": [
      "3\n",
      "1)b)III) Optimal portfolio weights according to Markowitz Model 3 are:\n",
      "[ 7.48581862 -2.06285169 -4.42296694]\n"
     ]
    }
   ],
   "source": [
    "def markowitz_model3(om, mu, R):\n",
    "    Objective = lambda w: w.T @ om @ w\n",
    "    def equality(x):\n",
    "        e = np.ones((m))\n",
    "        return(e @ x - 1)\n",
    "    def inequality(x):\n",
    "        return(mu @ x - 0.3)\n",
    "\n",
    "    b = (-np.inf, np.inf)\n",
    "    temp=[]\n",
    "    for i in range(m):\n",
    "        temp.append(b)\n",
    "    limit = tuple(temp)\n",
    "    y = np.ones(m)\n",
    "    constraint1 = {'type':'ineq', 'fun':inequality}\n",
    "    constraint2 = {'type':'eq', 'fun':equality}\n",
    "    constraints = ([constraint1, constraint2])\n",
    "    sol = minimize(Objective, y, method='SLSQP', \\\n",
    "                        bounds=limit, constraints=constraints)\n",
    "    return sol\n",
    "ans = markowitz_model3(om, mu, R=0.3)\n",
    "print(\"1)b)III) Optimal portfolio weights according to Markowitz Model 3 are:\")\n",
    "print(ans.x)"
   ]
  },
  {
   "cell_type": "code",
   "execution_count": 68,
   "metadata": {},
   "outputs": [
    {
     "name": "stdout",
     "output_type": "stream",
     "text": [
      "1)c) The efficient frontier with the minimum variance point for Markowitz model 1 and 2 is as follows: \n"
     ]
    },
    {
     "data": {
      "image/png": "[encoded data removed]",
      "text/plain": [
       "<matplotlib.figure.Figure at 0x7ff1b8997630>"
      ]
     },
     "metadata": {},
     "output_type": "display_data"
    }
   ],
   "source": [
    "# Let R_1 = -1, R_2 = 1\n",
    "A = np.array([\n",
    "    [10, 15, 10], \n",
    "    [15, 20, 15],\n",
    "    [13, 18, 11],\n",
    "    [15, 15, 14],\n",
    "    [14, 16, 13]\n",
    "])\n",
    "R_1 = -1.0\n",
    "R_2 = 1.0\n",
    "A = A.T[:2].T\n",
    "\n",
    "rate = np.zeros((A.shape[0]-1, A.shape[1]))\n",
    "for i in range(rate.shape[0]):\n",
    "    for j in range(rate.shape[1]):\n",
    "        rate[i][j] = A[i+1][j]/A[i][j] - 1\n",
    "\n",
    "n, m = rate.shape\n",
    "mu = np.mean(rate, axis=0)\n",
    "D = rate - mu\n",
    "# Covariance matrix of return\n",
    "om = (D.T @ D) *1/n\n",
    "e = np.ones((m, 1))\n",
    "w_1 = markowitz_model2(om, mu, R_1)\n",
    "w_2 = markowitz_model2(om, mu, R_2)\n",
    "\n",
    "n = 100\n",
    "l = np.linspace(0, 1, n)\n",
    "ret = np.zeros(n)\n",
    "risk = np.zeros(n) #[0]*n\n",
    "risk1 = w_1.T@om@w_1 \n",
    "risk2 = w_2.T@om@w_2\n",
    "\n",
    "for i in range(n):\n",
    "    ret[i] = l[i]*R_1 + (1 - l[i])*R_2\n",
    "    risk[i] =  ((risk1 * l[i]**2) + (risk2 * (1 - l[i])**2))**0.5\n",
    "\n",
    "#Calculating minimum variance points    \n",
    "risk_model1 = risk[np.argmin(risk)]\n",
    "ret_model1 = ret[np.argmin(risk)]\n",
    "index = np.where(np.isclose(ret,0.3, 1e-1))[0]\n",
    "risk_model2 = risk[index]\n",
    "\n",
    "#Plotting the data on a graph\n",
    "print(\"1)c) The efficient frontier with the minimum variance point for Markowitz model 1 and 2 is as follows: \")\n",
    "fig = plt.plot(risk, ret, '-')\n",
    "plt.xlabel('Risk')\n",
    "plt.ylabel('Return')\n",
    "plt.plot(risk_model1, ret_model1, 'ro')\n",
    "plt.annotate(\"  Model I minimum variance\", (risk_model1, ret_model1))\n",
    "plt.plot(risk_model2[1],0.3, 'ro')\n",
    "plt.annotate(\"    Model II minimum variance\", (risk_model2[1], 0.3))\n",
    "plt.show()"
   ]
  }
 ],
 "metadata": {
  "kernelspec": {
   "display_name": "Python 3",
   "language": "python",
   "name": "python3"
  },
  "language_info": {
   "codemirror_mode": {
    "name": "ipython",
    "version": 3
   },
   "file_extension": ".py",
   "mimetype": "text/x-python",
   "name": "python",
   "nbconvert_exporter": "python",
   "pygments_lexer": "ipython3",
   "version": "3.8.3"
  }
 },
 "nbformat": 4,
 "nbformat_minor": 2
}
