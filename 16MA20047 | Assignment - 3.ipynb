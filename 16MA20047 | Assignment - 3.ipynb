{
 "cells": [
  {
   "cell_type": "code",
   "execution_count": 1,
   "metadata": {},
   "outputs": [],
   "source": [
    "import numpy as np\n",
    "from numpy.linalg import inv\n",
    "from numpy.linalg import det\n",
    "from scipy.optimize import minimize\n",
    "from matplotlib import pyplot as plt\n",
    "%matplotlib inline"
   ]
  },
  {
   "cell_type": "code",
   "execution_count": 13,
   "metadata": {},
   "outputs": [],
   "source": [
    "# Definition of all the functions are here\n",
    "\n",
    "def calculate_rate_from_prices(P):\n",
    "    rate = np.zeros((P.shape[0]-1, P.shape[1]))\n",
    "    for i in range(rate.shape[0]):\n",
    "        for j in range(rate.shape[1]):\n",
    "            rate[i][j] = P[i+1][j]/P[i][j] - 1\n",
    "    return rate\n",
    "\n",
    "def markowitz_optimization_model(OM, M, R, n, m, number=1):\n",
    "    \n",
    "    if number == 1:\n",
    "        I = np.ones((m,1))\n",
    "        ans = np.dot(np.linalg.inv(OM), I)\n",
    "        ans /= np.dot(np.dot(I.T, np.linalg.inv(OM)), I)\n",
    "        return ans.T\n",
    "    \n",
    "    if number == 2:\n",
    "        e = np.ones((m, 1))\n",
    "        numerator = np.array([[2*R, float(M.T @ inv(OM) @ e)], [2, float(e.T @ inv(OM) @ e)]])\n",
    "        denominator = np.array([[float(M.T @ inv(OM) @ M), float(M.T @ inv(OM) @ e)],\n",
    "                                [float(e.T @ inv(OM) @ M), float(e.T @ inv(OM) @ e)]])\n",
    "        lambda1 = det(numerator)/det(denominator)\n",
    "        numerator = np.array([[float(M.T @ inv(OM) @ M), 2*R], \n",
    "                                [float(e.T @ inv(OM) @ M), 2]])\n",
    "        denominator = np.array([[float(M.T @ inv(OM) @ M), float(M.T @ inv(OM) @ e)],\n",
    "                                [float(e.T @ inv(OM) @ M), float(e.T @ inv(OM) @ e)]])\n",
    "\n",
    "        lambda2 = det(numerator)/det(denominator)\n",
    "        sol = 0.5 * (lambda1 * (inv(OM) @ M) + lambda2 * (inv(OM) @ e.reshape(m)))\n",
    "        return sol\n",
    "    \n",
    "    if number == 3:\n",
    "        Objective = lambda w: w.T @ OM @ w\n",
    "        def equality(x):\n",
    "            e = np.ones((m))\n",
    "            return(e @ x - 1)\n",
    "        def inequality(x):\n",
    "            return(M @ x - 0.3)\n",
    "\n",
    "        b = (-np.inf, np.inf)\n",
    "        temp=[]\n",
    "        for i in range(m):\n",
    "            temp.append(b)\n",
    "        limit = tuple(temp)\n",
    "        y = np.ones(m)\n",
    "        constraint1 = {'type':'ineq', 'fun':inequality}\n",
    "        constraint2 = {'type':'eq', 'fun':equality}\n",
    "        constraints = ([constraint1, constraint2])\n",
    "        sol = minimize(Objective, y, method='SLSQP', \\\n",
    "                            bounds=limit, constraints=constraints)\n",
    "        return sol\n",
    "\n"
   ]
  },
  {
   "cell_type": "code",
   "execution_count": 12,
   "metadata": {},
   "outputs": [
    {
     "name": "stdout",
     "output_type": "stream",
     "text": [
      "1.a] Covariance matrix of return: \n",
      "[[ 505.40144006 -157.391795   -347.41202632]\n",
      " [-157.391795     88.20495343   93.92524336]\n",
      " [-347.41202632   93.92524336  255.32288321]]\n"
     ]
    }
   ],
   "source": [
    "import numpy as np\n",
    "\n",
    "\n",
    "P = [\n",
    "    [10, 15, 10], \n",
    "    [15, 20, 15],\n",
    "    [13, 18, 11],\n",
    "    [15, 15, 14],\n",
    "    [14, 16, 13]\n",
    "]\n",
    "\n",
    "P = np.array(P)\n",
    "\n",
    "S = calculate_rate_from_prices(P)\n",
    "n, m = S.shape\n",
    "\n",
    "M = np.mean(S, axis=0)\n",
    "DM = S - M\n",
    "OM = np.dot(DM.T, DM) * 1/n\n",
    "\n",
    "print(\"1.a] Covariance matrix of return: \")\n",
    "print(np.linalg.inv(OM))\n"
   ]
  },
  {
   "cell_type": "code",
   "execution_count": 14,
   "metadata": {},
   "outputs": [
    {
     "data": {
      "text/plain": [
       "array([[0.02199382, 0.91043323, 0.06757295]])"
      ]
     },
     "execution_count": 14,
     "metadata": {},
     "output_type": "execute_result"
    }
   ],
   "source": [
    "markowitz_optimization_model(OM, M, 0, n, m)"
   ]
  },
  {
   "cell_type": "code",
   "execution_count": 15,
   "metadata": {},
   "outputs": [
    {
     "data": {
      "text/plain": [
       "array([ 7.48581885, -2.06285174, -4.42296711])"
      ]
     },
     "execution_count": 15,
     "metadata": {},
     "output_type": "execute_result"
    }
   ],
   "source": [
    "markowitz_optimization_model(OM, M, 0.3, n, m, number=2)"
   ]
  },
  {
   "cell_type": "code",
   "execution_count": 16,
   "metadata": {},
   "outputs": [
    {
     "data": {
      "text/plain": [
       "     fun: 0.17218315452876504\n",
       "     jac: array([0.14996823, 0.06646391, 0.14496227])\n",
       " message: 'Optimization terminated successfully'\n",
       "    nfev: 24\n",
       "     nit: 6\n",
       "    njev: 6\n",
       "  status: 0\n",
       " success: True\n",
       "       x: array([ 7.48581982, -2.06285163, -4.42296819])"
      ]
     },
     "execution_count": 16,
     "metadata": {},
     "output_type": "execute_result"
    }
   ],
   "source": [
    "markowitz_optimization_model(OM, M, 0.3, n, m, number=3)"
   ]
  },
  {
   "cell_type": "code",
   "execution_count": 17,
   "metadata": {},
   "outputs": [
    {
     "ename": "NameError",
     "evalue": "name 'markowitz_model2' is not defined",
     "output_type": "error",
     "traceback": [
      "\u001b[0;31m---------------------------------------------------------------------------\u001b[0m",
      "\u001b[0;31mNameError\u001b[0m                                 Traceback (most recent call last)",
      "\u001b[0;32m<ipython-input-17-413f2685dfdf>\u001b[0m in \u001b[0;36m<module>\u001b[0;34m\u001b[0m\n\u001b[1;32m     22\u001b[0m \u001b[0mom\u001b[0m \u001b[0;34m=\u001b[0m \u001b[0;34m(\u001b[0m\u001b[0mD\u001b[0m\u001b[0;34m.\u001b[0m\u001b[0mT\u001b[0m \u001b[0;34m@\u001b[0m \u001b[0mD\u001b[0m\u001b[0;34m)\u001b[0m \u001b[0;34m*\u001b[0m\u001b[0;36m1\u001b[0m\u001b[0;34m/\u001b[0m\u001b[0mn\u001b[0m\u001b[0;34m\u001b[0m\u001b[0;34m\u001b[0m\u001b[0m\n\u001b[1;32m     23\u001b[0m \u001b[0me\u001b[0m \u001b[0;34m=\u001b[0m \u001b[0mnp\u001b[0m\u001b[0;34m.\u001b[0m\u001b[0mones\u001b[0m\u001b[0;34m(\u001b[0m\u001b[0;34m(\u001b[0m\u001b[0mm\u001b[0m\u001b[0;34m,\u001b[0m \u001b[0;36m1\u001b[0m\u001b[0;34m)\u001b[0m\u001b[0;34m)\u001b[0m\u001b[0;34m\u001b[0m\u001b[0;34m\u001b[0m\u001b[0m\n\u001b[0;32m---> 24\u001b[0;31m \u001b[0mw_1\u001b[0m \u001b[0;34m=\u001b[0m \u001b[0mmarkowitz_model2\u001b[0m\u001b[0;34m(\u001b[0m\u001b[0mom\u001b[0m\u001b[0;34m,\u001b[0m \u001b[0mmu\u001b[0m\u001b[0;34m,\u001b[0m \u001b[0mR_1\u001b[0m\u001b[0;34m)\u001b[0m\u001b[0;34m\u001b[0m\u001b[0;34m\u001b[0m\u001b[0m\n\u001b[0m\u001b[1;32m     25\u001b[0m \u001b[0mw_2\u001b[0m \u001b[0;34m=\u001b[0m \u001b[0mmarkowitz_model2\u001b[0m\u001b[0;34m(\u001b[0m\u001b[0mom\u001b[0m\u001b[0;34m,\u001b[0m \u001b[0mmu\u001b[0m\u001b[0;34m,\u001b[0m \u001b[0mR_2\u001b[0m\u001b[0;34m)\u001b[0m\u001b[0;34m\u001b[0m\u001b[0;34m\u001b[0m\u001b[0m\n\u001b[1;32m     26\u001b[0m \u001b[0;34m\u001b[0m\u001b[0m\n",
      "\u001b[0;31mNameError\u001b[0m: name 'markowitz_model2' is not defined"
     ]
    }
   ],
   "source": [
    "# Let R_1 = -1, R_2 = 1\n",
    "A = np.array([\n",
    "    [10, 15, 10], \n",
    "    [15, 20, 15],\n",
    "    [13, 18, 11],\n",
    "    [15, 15, 14],\n",
    "    [14, 16, 13]\n",
    "])\n",
    "R_1 = -1.0\n",
    "R_2 = 1.0\n",
    "A = A.T[:2].T\n",
    "\n",
    "rate = np.zeros((A.shape[0]-1, A.shape[1]))\n",
    "for i in range(rate.shape[0]):\n",
    "    for j in range(rate.shape[1]):\n",
    "        rate[i][j] = A[i+1][j]/A[i][j] - 1\n",
    "\n",
    "n, m = rate.shape\n",
    "mu = np.mean(rate, axis=0)\n",
    "D = rate - mu\n",
    "# Covariance matrix of return\n",
    "om = (D.T @ D) *1/n\n",
    "e = np.ones((m, 1))\n",
    "w_1 = markowitz_model2(om, mu, R_1)\n",
    "w_2 = markowitz_model2(om, mu, R_2)\n",
    "\n",
    "n = 100\n",
    "l = np.linspace(0, 1, n)\n",
    "ret = np.zeros(n)\n",
    "risk = np.zeros(n) #[0]*n\n",
    "risk1 = w_1.T@om@w_1 \n",
    "risk2 = w_2.T@om@w_2\n",
    "\n",
    "for i in range(n):\n",
    "    ret[i] = l[i]*R_1 + (1 - l[i])*R_2\n",
    "    risk[i] =  ((risk1 * l[i]**2) + (risk2 * (1 - l[i])**2))**0.5\n",
    "\n",
    "#Calculating minimum variance points    \n",
    "risk_model1 = risk[np.argmin(risk)]\n",
    "ret_model1 = ret[np.argmin(risk)]\n",
    "index = np.where(np.isclose(ret,0.3, 1e-1))[0]\n",
    "risk_model2 = risk[index]\n",
    "\n",
    "#Plotting the data on a graph\n",
    "print(\"1)c) The efficient frontier with the minimum variance point for Markowitz model 1 and 2 is as follows: \")\n",
    "fig = plt.plot(risk, ret, '-')\n",
    "plt.xlabel('Risk')\n",
    "plt.ylabel('Return')\n",
    "plt.plot(risk_model1, ret_model1, 'ro')\n",
    "plt.annotate(\"  Model I minimum variance\", (risk_model1, ret_model1))\n",
    "plt.plot(risk_model2[1],0.3, 'ro')\n",
    "plt.annotate(\"    Model II minimum variance\", (risk_model2[1], 0.3))\n",
    "plt.show()"
   ]
  },
  {
   "cell_type": "code",
   "execution_count": null,
   "metadata": {},
   "outputs": [],
   "source": []
  }
 ],
 "metadata": {
  "kernelspec": {
   "display_name": "Python 3",
   "language": "python",
   "name": "python3"
  },
  "language_info": {
   "codemirror_mode": {
    "name": "ipython",
    "version": 3
   },
   "file_extension": ".py",
   "mimetype": "text/x-python",
   "name": "python",
   "nbconvert_exporter": "python",
   "pygments_lexer": "ipython3",
   "version": "3.8.3"
  }
 },
 "nbformat": 4,
 "nbformat_minor": 4
}
